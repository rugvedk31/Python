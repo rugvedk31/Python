{
 "cells": [
  {
   "cell_type": "markdown",
   "id": "e4f82d3b-0ec5-4563-838d-c08048767561",
   "metadata": {},
   "source": [
    "User input"
   ]
  },
  {
   "cell_type": "markdown",
   "id": "8e8e3a5b-76eb-4ac0-bab2-bd48db8e8577",
   "metadata": {},
   "source": [
    "we have to specified the type of input which we are taking.\n",
    "by default in python it takes as a string."
   ]
  },
  {
   "cell_type": "code",
   "execution_count": 5,
   "id": "27014f38-be4b-43d1-98ef-3b827baeb2f1",
   "metadata": {},
   "outputs": [
    {
     "name": "stdin",
     "output_type": "stream",
     "text": [
      "Enter value of a :  10\n"
     ]
    }
   ],
   "source": [
    "a = int(input(\"Enter value of a : \"))"
   ]
  },
  {
   "cell_type": "code",
   "execution_count": 6,
   "id": "ef15e0ad-0013-48e0-b91a-c2c5ad739a7a",
   "metadata": {},
   "outputs": [
    {
     "name": "stdin",
     "output_type": "stream",
     "text": [
      "Enter value of b :  20\n"
     ]
    }
   ],
   "source": [
    "b = int(input(\"Enter value of b : \"))"
   ]
  },
  {
   "cell_type": "code",
   "execution_count": 8,
   "id": "da82b958-7145-4683-82f0-336df20f40ce",
   "metadata": {},
   "outputs": [
    {
     "name": "stdout",
     "output_type": "stream",
     "text": [
      "Addition :  30\n"
     ]
    }
   ],
   "source": [
    "c = a + b\n",
    "print(\"Addition : \",c)"
   ]
  }
 ],
 "metadata": {
  "kernelspec": {
   "display_name": "Python 3 (ipykernel)",
   "language": "python",
   "name": "python3"
  },
  "language_info": {
   "codemirror_mode": {
    "name": "ipython",
    "version": 3
   },
   "file_extension": ".py",
   "mimetype": "text/x-python",
   "name": "python",
   "nbconvert_exporter": "python",
   "pygments_lexer": "ipython3",
   "version": "3.13.5"
  }
 },
 "nbformat": 4,
 "nbformat_minor": 5
}
