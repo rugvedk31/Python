{
 "cells": [
  {
   "cell_type": "markdown",
   "id": "cafa1dd3-3623-4f60-b8bc-43c4cc293ad5",
   "metadata": {},
   "source": [
    "Indentation in Python means the spaces (or tabs) you put at the beginning of a line of code."
   ]
  },
  {
   "cell_type": "markdown",
   "id": "85cc137b-9f6c-4f1f-8201-fa5b9e82c620",
   "metadata": {},
   "source": [
    "Conditional statements - if, elif, else"
   ]
  },
  {
   "cell_type": "code",
   "execution_count": 5,
   "id": "8f76aea1-ce7b-480a-bda6-4d63f68333e9",
   "metadata": {},
   "outputs": [],
   "source": [
    "a = 5000"
   ]
  },
  {
   "cell_type": "markdown",
   "id": "5a3b0bf1-f502-47ba-a253-5e9a95495e19",
   "metadata": {},
   "source": [
    "if else"
   ]
  },
  {
   "cell_type": "code",
   "execution_count": 8,
   "id": "9fa31d61-03f0-48d3-9c27-25196c055463",
   "metadata": {},
   "outputs": [
    {
     "name": "stdout",
     "output_type": "stream",
     "text": [
      "Greater.\n"
     ]
    }
   ],
   "source": [
    "if(a > 500):\n",
    "    print(\"Greater.\")\n",
    "else:\n",
    "    print(\"Smaller.\")"
   ]
  },
  {
   "cell_type": "markdown",
   "id": "179943be-20f4-42c3-9bc0-85a866db290f",
   "metadata": {},
   "source": [
    "if elif else"
   ]
  },
  {
   "cell_type": "code",
   "execution_count": 9,
   "id": "533eb7c9-2577-4599-a83e-262d5f407972",
   "metadata": {},
   "outputs": [],
   "source": [
    "b = 4000"
   ]
  },
  {
   "cell_type": "code",
   "execution_count": 10,
   "id": "23bffc9d-ccdc-45d5-b12a-e497e25af8ff",
   "metadata": {},
   "outputs": [],
   "source": [
    "c = 6000"
   ]
  },
  {
   "cell_type": "code",
   "execution_count": 11,
   "id": "a980c208-9eb9-44f2-9e50-99202d98bfe9",
   "metadata": {},
   "outputs": [
    {
     "name": "stdout",
     "output_type": "stream",
     "text": [
      "c is greater than a and b\n"
     ]
    }
   ],
   "source": [
    "if(a>b and a>c):\n",
    "    print(\"a is greater than b and c\")\n",
    "elif(b>c and b>a):\n",
    "    print(\"b is greater than c and a\")\n",
    "else:\n",
    "    print(\"c is greater than a and b\") "
   ]
  }
 ],
 "metadata": {
  "kernelspec": {
   "display_name": "Python 3 (ipykernel)",
   "language": "python",
   "name": "python3"
  },
  "language_info": {
   "codemirror_mode": {
    "name": "ipython",
    "version": 3
   },
   "file_extension": ".py",
   "mimetype": "text/x-python",
   "name": "python",
   "nbconvert_exporter": "python",
   "pygments_lexer": "ipython3",
   "version": "3.13.5"
  }
 },
 "nbformat": 4,
 "nbformat_minor": 5
}
