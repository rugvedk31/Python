{
 "cells": [
  {
   "cell_type": "markdown",
   "id": "00292fc5-0ae8-4996-82e3-cb4ffeffe6e8",
   "metadata": {},
   "source": [
    "List comprehensions"
   ]
  },
  {
   "cell_type": "markdown",
   "id": "aba793dc-38fb-49bf-bb55-930e9a1e09ec",
   "metadata": {},
   "source": [
    "List comprehension is a concise and efficient way to create lists in Python. It allows you to generate lists in a single line of code, making your code more readable and Pythonic."
   ]
  },
  {
   "cell_type": "code",
   "execution_count": 1,
   "id": "20e7aa43-d889-4e91-8441-cbd17093e1e2",
   "metadata": {},
   "outputs": [],
   "source": [
    "table = [2*i for i in range(1,11)]"
   ]
  },
  {
   "cell_type": "code",
   "execution_count": 4,
   "id": "6bc07d9f-aa59-4671-822d-eeb7385071bf",
   "metadata": {},
   "outputs": [
    {
     "data": {
      "text/plain": [
       "[2, 4, 6, 8, 10, 12, 14, 16, 18, 20]"
      ]
     },
     "execution_count": 4,
     "metadata": {},
     "output_type": "execute_result"
    }
   ],
   "source": [
    "table"
   ]
  },
  {
   "cell_type": "code",
   "execution_count": 10,
   "id": "3decd059-936c-4fb2-b678-e60e36a22e6c",
   "metadata": {},
   "outputs": [],
   "source": [
    "table = [2*i for i in range(1,11) if i%2==0] #printing only even numbers from table."
   ]
  },
  {
   "cell_type": "code",
   "execution_count": 12,
   "id": "d025aa78-2e34-4102-bc12-1ebd2de12989",
   "metadata": {},
   "outputs": [
    {
     "data": {
      "text/plain": [
       "[4, 8, 12, 16, 20]"
      ]
     },
     "execution_count": 12,
     "metadata": {},
     "output_type": "execute_result"
    }
   ],
   "source": [
    "table"
   ]
  },
  {
   "cell_type": "markdown",
   "id": "3ce71ed8-0785-4bf2-93a5-310e5b6650e4",
   "metadata": {},
   "source": [
    "Like wise the set and dirctionary compression also there but tuple compression is not there, beacuse tuple is immutable."
   ]
  }
 ],
 "metadata": {
  "kernelspec": {
   "display_name": "Python 3 (ipykernel)",
   "language": "python",
   "name": "python3"
  },
  "language_info": {
   "codemirror_mode": {
    "name": "ipython",
    "version": 3
   },
   "file_extension": ".py",
   "mimetype": "text/x-python",
   "name": "python",
   "nbconvert_exporter": "python",
   "pygments_lexer": "ipython3",
   "version": "3.13.5"
  }
 },
 "nbformat": 4,
 "nbformat_minor": 5
}
