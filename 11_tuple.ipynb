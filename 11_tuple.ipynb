{
 "cells": [
  {
   "cell_type": "markdown",
   "id": "6525b090-bf1a-4133-934a-b29e4ba6ad64",
   "metadata": {},
   "source": [
    "Tuple - Tuple is orderd and immutable collection of elements"
   ]
  },
  {
   "cell_type": "code",
   "execution_count": 3,
   "id": "ad5b193c-c87c-4cdb-8c3e-a18bbc8087ba",
   "metadata": {},
   "outputs": [
    {
     "data": {
      "text/plain": [
       "()"
      ]
     },
     "execution_count": 3,
     "metadata": {},
     "output_type": "execute_result"
    }
   ],
   "source": [
    "#empty tuple\n",
    "tuple = ()\n",
    "tuple"
   ]
  },
  {
   "cell_type": "code",
   "execution_count": 5,
   "id": "ce9e10c2-1433-4e6d-8874-6fddd02d6e22",
   "metadata": {},
   "outputs": [
    {
     "data": {
      "text/plain": [
       "[1, 2, 3, 4, 5]"
      ]
     },
     "execution_count": 5,
     "metadata": {},
     "output_type": "execute_result"
    }
   ],
   "source": [
    "#tuple with elements\n",
    "tuple = [1,2,3,4,5]\n",
    "tuple"
   ]
  },
  {
   "cell_type": "code",
   "execution_count": 6,
   "id": "7e3b94c7-6402-4b79-a27c-dcb6ec3d9593",
   "metadata": {},
   "outputs": [
    {
     "data": {
      "text/plain": [
       "[1, 2, 'Hello', 3, 4, 'World', 5]"
      ]
     },
     "execution_count": 6,
     "metadata": {},
     "output_type": "execute_result"
    }
   ],
   "source": [
    "#tuple with mixed data types\n",
    "mixedTuple = [1,2,\"Hello\",3,4,\"World\",5]\n",
    "mixedTuple"
   ]
  },
  {
   "cell_type": "code",
   "execution_count": 8,
   "id": "474c8240-79ea-4262-b5cb-5c314d553b63",
   "metadata": {},
   "outputs": [
    {
     "data": {
      "text/plain": [
       "(42,)"
      ]
     },
     "execution_count": 8,
     "metadata": {},
     "output_type": "execute_result"
    }
   ],
   "source": [
    "# Single element tuple (comma is necessary)\n",
    "single_element = (42,)\n",
    "single_element"
   ]
  },
  {
   "cell_type": "markdown",
   "id": "44d89e1e-0d96-4e06-a956-de23be1eff46",
   "metadata": {},
   "source": [
    "Accessing the tuple elements "
   ]
  },
  {
   "cell_type": "code",
   "execution_count": 11,
   "id": "ec0a97df-4fa0-464a-bd95-ffead7d0b1c5",
   "metadata": {},
   "outputs": [
    {
     "data": {
      "text/plain": [
       "1"
      ]
     },
     "execution_count": 11,
     "metadata": {},
     "output_type": "execute_result"
    }
   ],
   "source": [
    "tuple[0]"
   ]
  },
  {
   "cell_type": "markdown",
   "id": "a02b5fea-ec4a-47ea-a5fb-07b4a96c1be4",
   "metadata": {},
   "source": [
    "Slicing tuple"
   ]
  },
  {
   "cell_type": "code",
   "execution_count": 14,
   "id": "6b075656-ef69-4b96-8330-c3822106436c",
   "metadata": {},
   "outputs": [
    {
     "data": {
      "text/plain": [
       "[2, 3, 4]"
      ]
     },
     "execution_count": 14,
     "metadata": {},
     "output_type": "execute_result"
    }
   ],
   "source": [
    "tuple[1:4] #start with index 1 and ends with n-1"
   ]
  },
  {
   "cell_type": "markdown",
   "id": "4a30f78a-89d0-4e05-ac73-42a113306226",
   "metadata": {},
   "source": [
    "Tuple packing unpacking"
   ]
  },
  {
   "cell_type": "code",
   "execution_count": 16,
   "id": "f79a03ae-bce7-48ee-bdfc-b8353c3c6ff6",
   "metadata": {},
   "outputs": [
    {
     "name": "stdout",
     "output_type": "stream",
     "text": [
      "Alice\n",
      "25\n"
     ]
    }
   ],
   "source": [
    "# Packing\n",
    "person = (\"Alice\", 25, \"Engineer\")\n",
    "\n",
    "# Unpacking\n",
    "name, age, profession = person\n",
    "print(name)  # Alice\n",
    "print(age)   # 25"
   ]
  }
 ],
 "metadata": {
  "kernelspec": {
   "display_name": "Python 3 (ipykernel)",
   "language": "python",
   "name": "python3"
  },
  "language_info": {
   "codemirror_mode": {
    "name": "ipython",
    "version": 3
   },
   "file_extension": ".py",
   "mimetype": "text/x-python",
   "name": "python",
   "nbconvert_exporter": "python",
   "pygments_lexer": "ipython3",
   "version": "3.13.5"
  }
 },
 "nbformat": 4,
 "nbformat_minor": 5
}
