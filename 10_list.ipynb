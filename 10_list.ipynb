{
 "cells": [
  {
   "cell_type": "markdown",
   "id": "244e8e6e-651f-444d-acf8-30e7d8ef1d6d",
   "metadata": {},
   "source": [
    "List and List Methods"
   ]
  },
  {
   "cell_type": "markdown",
   "id": "71db2e85-4057-49a3-9176-ca0291426454",
   "metadata": {},
   "source": [
    "List is ordered and mutable collection of elements"
   ]
  },
  {
   "cell_type": "code",
   "execution_count": 1,
   "id": "3073ddcf-0516-42fe-b8c7-be697c78c398",
   "metadata": {},
   "outputs": [],
   "source": [
    "#declaration\n",
    "list = [1,2,3,4,5]"
   ]
  },
  {
   "cell_type": "code",
   "execution_count": 3,
   "id": "bcac4756-e1e0-49ef-bd3a-44da839ba6b4",
   "metadata": {},
   "outputs": [
    {
     "data": {
      "text/plain": [
       "1"
      ]
     },
     "execution_count": 3,
     "metadata": {},
     "output_type": "execute_result"
    }
   ],
   "source": [
    "#access element\n",
    "list[0] #1"
   ]
  },
  {
   "cell_type": "code",
   "execution_count": 4,
   "id": "69c6e41f-6aa0-4a50-b7f1-24e336f88c7d",
   "metadata": {},
   "outputs": [
    {
     "data": {
      "text/plain": [
       "5"
      ]
     },
     "execution_count": 4,
     "metadata": {},
     "output_type": "execute_result"
    }
   ],
   "source": [
    "list[4] #5"
   ]
  },
  {
   "cell_type": "code",
   "execution_count": null,
   "id": "d88203b2-987b-4e2a-a74f-a62fc19196d0",
   "metadata": {},
   "outputs": [],
   "source": [
    "list[5] # error - list index out of range"
   ]
  },
  {
   "cell_type": "code",
   "execution_count": 6,
   "id": "2fcae296-20b6-49b3-ae21-dbbd8820fd38",
   "metadata": {},
   "outputs": [
    {
     "data": {
      "text/plain": [
       "6"
      ]
     },
     "execution_count": 6,
     "metadata": {},
     "output_type": "execute_result"
    }
   ],
   "source": [
    "#changing elemnts of the list\n",
    "list[0] = 6\n",
    "list[0]"
   ]
  },
  {
   "cell_type": "code",
   "execution_count": 8,
   "id": "564cf6b1-86d5-4bce-a8ad-2e7c593766ed",
   "metadata": {},
   "outputs": [],
   "source": [
    "#empty list\n",
    "emptyList = []"
   ]
  },
  {
   "cell_type": "code",
   "execution_count": 9,
   "id": "84d21967-2fbe-49ef-ac17-5063f806f060",
   "metadata": {},
   "outputs": [],
   "source": [
    "#mixed list\n",
    "mixedList = [1, 3.15, \"Hello\", True]"
   ]
  },
  {
   "cell_type": "markdown",
   "id": "974478e4-6df2-42be-bea9-d30d794b34ad",
   "metadata": {},
   "source": [
    "List methods"
   ]
  },
  {
   "cell_type": "code",
   "execution_count": 10,
   "id": "7b76f221-6609-4f92-9768-7e807f5e6c47",
   "metadata": {},
   "outputs": [],
   "source": [
    "#append - add elements to the last \n",
    "list.append(7)"
   ]
  },
  {
   "cell_type": "code",
   "execution_count": 11,
   "id": "ff2d8c4d-3049-41a5-9c15-910ecebf3f33",
   "metadata": {},
   "outputs": [
    {
     "data": {
      "text/plain": [
       "[6, 2, 3, 4, 5, 7]"
      ]
     },
     "execution_count": 11,
     "metadata": {},
     "output_type": "execute_result"
    }
   ],
   "source": [
    "list"
   ]
  },
  {
   "cell_type": "code",
   "execution_count": 13,
   "id": "ac8b1e52-bad0-49f0-baf6-e41b14ec0b2e",
   "metadata": {},
   "outputs": [
    {
     "data": {
      "text/plain": [
       "[6, 2, 3, 4, 5, 7, 8, 9, 10]"
      ]
     },
     "execution_count": 13,
     "metadata": {},
     "output_type": "execute_result"
    }
   ],
   "source": [
    "#extends - merege to list\n",
    "list1 = [8,9,10]\n",
    "list.extend(list1)\n",
    "list"
   ]
  },
  {
   "cell_type": "code",
   "execution_count": 14,
   "id": "51b3201f-8e13-4bce-8d97-29da684ea6a3",
   "metadata": {},
   "outputs": [
    {
     "data": {
      "text/plain": [
       "[1, 6, 2, 3, 4, 5, 7, 8, 9, 10]"
      ]
     },
     "execution_count": 14,
     "metadata": {},
     "output_type": "execute_result"
    }
   ],
   "source": [
    "#insert - insert the element at specefic index\n",
    "list.insert(0,1) # insert index 0 value 1\n",
    "list"
   ]
  },
  {
   "cell_type": "code",
   "execution_count": 15,
   "id": "2d47ce6a-28e3-4402-aa1c-79fe98d6d574",
   "metadata": {},
   "outputs": [
    {
     "data": {
      "text/plain": [
       "[1, 2, 3, 4, 5, 7, 8, 9, 10]"
      ]
     },
     "execution_count": 15,
     "metadata": {},
     "output_type": "execute_result"
    }
   ],
   "source": [
    "# remove - remove the first occurance \n",
    "list.remove(6)\n",
    "list"
   ]
  },
  {
   "cell_type": "code",
   "execution_count": 17,
   "id": "069347a6-bbcf-4048-a176-0821d7300a36",
   "metadata": {},
   "outputs": [
    {
     "data": {
      "text/plain": [
       "8"
      ]
     },
     "execution_count": 17,
     "metadata": {},
     "output_type": "execute_result"
    }
   ],
   "source": [
    "#pop[index] - remove and return the index of element\n",
    "list.pop(6)"
   ]
  },
  {
   "cell_type": "code",
   "execution_count": 18,
   "id": "4507ccf2-3d1f-47d3-a9d6-925020da0ebc",
   "metadata": {},
   "outputs": [
    {
     "data": {
      "text/plain": [
       "1"
      ]
     },
     "execution_count": 18,
     "metadata": {},
     "output_type": "execute_result"
    }
   ],
   "source": [
    "#count - return the no of times element occurs\n",
    "list.count(1)"
   ]
  },
  {
   "cell_type": "code",
   "execution_count": 20,
   "id": "c5913942-c0d3-4bb3-8d1a-93fab2161c24",
   "metadata": {},
   "outputs": [
    {
     "data": {
      "text/plain": [
       "[1, 2, 4, 5, 6, 7, 9, 10]"
      ]
     },
     "execution_count": 20,
     "metadata": {},
     "output_type": "execute_result"
    }
   ],
   "source": [
    "#sort - sort the list in ascending order\n",
    "unsort = [10,1,5,2,6,7,9,4]\n",
    "unsort.sort()\n",
    "unsort"
   ]
  },
  {
   "cell_type": "code",
   "execution_count": 21,
   "id": "c0e51997-3997-4653-b98f-4c10b9668a4f",
   "metadata": {},
   "outputs": [
    {
     "data": {
      "text/plain": [
       "[10, 9, 7, 5, 4, 3, 2, 1]"
      ]
     },
     "execution_count": 21,
     "metadata": {},
     "output_type": "execute_result"
    }
   ],
   "source": [
    "#reverse - reverse the list\n",
    "list.reverse()\n",
    "list"
   ]
  },
  {
   "cell_type": "code",
   "execution_count": 22,
   "id": "86ae5c05-2738-4b03-9e6b-259044172556",
   "metadata": {},
   "outputs": [
    {
     "data": {
      "text/plain": [
       "[10, 9, 7, 5, 4, 3, 2, 1]"
      ]
     },
     "execution_count": 22,
     "metadata": {},
     "output_type": "execute_result"
    }
   ],
   "source": [
    "#copy - return shallow copy of the list\n",
    "newList = list.copy()\n",
    "newList"
   ]
  },
  {
   "cell_type": "code",
   "execution_count": 27,
   "id": "2893f31f-99af-437c-a884-3e50b44c0c0e",
   "metadata": {},
   "outputs": [
    {
     "data": {
      "text/plain": [
       "[]"
      ]
     },
     "execution_count": 27,
     "metadata": {},
     "output_type": "execute_result"
    }
   ],
   "source": [
    "#clear - removes all the elements of the list\n",
    "newList.clear()\n",
    "newList"
   ]
  },
  {
   "cell_type": "markdown",
   "id": "2c1560c8-7111-4e7b-b9b4-8a5658465081",
   "metadata": {},
   "source": [
    "nested list"
   ]
  },
  {
   "cell_type": "code",
   "execution_count": 28,
   "id": "4b91fed2-71fc-4311-933f-e746d651d144",
   "metadata": {},
   "outputs": [],
   "source": [
    "list = [1,2,\"Hello\",[3,4],5]"
   ]
  },
  {
   "cell_type": "code",
   "execution_count": 30,
   "id": "4151fbce-0acd-44a8-ae50-6050e209adee",
   "metadata": {},
   "outputs": [
    {
     "data": {
      "text/plain": [
       "3"
      ]
     },
     "execution_count": 30,
     "metadata": {},
     "output_type": "execute_result"
    }
   ],
   "source": [
    "#accessing list of list 1st element\n",
    "list[3][0]"
   ]
  },
  {
   "cell_type": "code",
   "execution_count": 32,
   "id": "d19164cd-8c91-417b-9b7c-1577f8bdd781",
   "metadata": {},
   "outputs": [
    {
     "data": {
      "text/plain": [
       "[1, 2, 3, 4, 5, 6]"
      ]
     },
     "execution_count": 32,
     "metadata": {},
     "output_type": "execute_result"
    }
   ],
   "source": [
    "#List concatination - concat list and return new list , does not changes existing lists\n",
    "list1=[1,2,3]\n",
    "list2=[4,5,6]\n",
    "list1+list2"
   ]
  },
  {
   "cell_type": "markdown",
   "id": "5b1f8449-3015-4b72-8319-f9cbe70e11fc",
   "metadata": {},
   "source": [
    "String to list conversion"
   ]
  },
  {
   "cell_type": "code",
   "execution_count": 33,
   "id": "594435ce-d95c-4bc8-be0c-23e04acd541e",
   "metadata": {},
   "outputs": [],
   "source": [
    "str = \"Akash-Sumit-Paras-Rugved\""
   ]
  },
  {
   "cell_type": "code",
   "execution_count": 36,
   "id": "3b8fcbde-8c46-4064-a180-b38729ecf3a4",
   "metadata": {},
   "outputs": [
    {
     "data": {
      "text/plain": [
       "['Akash', 'Sumit', 'Paras', 'Rugved']"
      ]
     },
     "execution_count": 36,
     "metadata": {},
     "output_type": "execute_result"
    }
   ],
   "source": [
    "str.split(\"-\")"
   ]
  }
 ],
 "metadata": {
  "kernelspec": {
   "display_name": "Python 3 (ipykernel)",
   "language": "python",
   "name": "python3"
  },
  "language_info": {
   "codemirror_mode": {
    "name": "ipython",
    "version": 3
   },
   "file_extension": ".py",
   "mimetype": "text/x-python",
   "name": "python",
   "nbconvert_exporter": "python",
   "pygments_lexer": "ipython3",
   "version": "3.13.5"
  }
 },
 "nbformat": 4,
 "nbformat_minor": 5
}
