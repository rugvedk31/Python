{
 "cells": [
  {
   "cell_type": "code",
   "execution_count": 1,
   "id": "6de12b6c-8f77-44f1-91e0-8e6510a3ad9f",
   "metadata": {},
   "outputs": [],
   "source": [
    "name = \"Rugved\""
   ]
  },
  {
   "cell_type": "code",
   "execution_count": 6,
   "id": "ea8dd59c-f91e-408f-8f89-7d9e4e97d011",
   "metadata": {},
   "outputs": [
    {
     "data": {
      "text/plain": [
       "'Rugved'"
      ]
     },
     "execution_count": 6,
     "metadata": {},
     "output_type": "execute_result"
    }
   ],
   "source": [
    "name"
   ]
  },
  {
   "cell_type": "markdown",
   "id": "1986f6ab-1cae-4dd8-8461-63c281ea64bc",
   "metadata": {},
   "source": [
    "String fuctions"
   ]
  },
  {
   "cell_type": "code",
   "execution_count": 7,
   "id": "38c4e130-930d-437c-9d67-4137b3842c11",
   "metadata": {},
   "outputs": [
    {
     "data": {
      "text/plain": [
       "'RUGVED'"
      ]
     },
     "execution_count": 7,
     "metadata": {},
     "output_type": "execute_result"
    }
   ],
   "source": [
    "name.upper()"
   ]
  },
  {
   "cell_type": "code",
   "execution_count": 9,
   "id": "962bcf9b-4f0b-4471-ae54-645fb950d3e8",
   "metadata": {},
   "outputs": [
    {
     "data": {
      "text/plain": [
       "'rugved'"
      ]
     },
     "execution_count": 9,
     "metadata": {},
     "output_type": "execute_result"
    }
   ],
   "source": [
    "name.lower()"
   ]
  },
  {
   "cell_type": "code",
   "execution_count": 11,
   "id": "b95e4670-1567-4b96-9eef-e7d5835ceb74",
   "metadata": {},
   "outputs": [
    {
     "data": {
      "text/plain": [
       "True"
      ]
     },
     "execution_count": 11,
     "metadata": {},
     "output_type": "execute_result"
    }
   ],
   "source": [
    "name.endswith(\"ved\") #true if end with specific character"
   ]
  },
  {
   "cell_type": "code",
   "execution_count": 12,
   "id": "5fd8b0b3-8bf0-417d-af0b-0515e79d2f7e",
   "metadata": {},
   "outputs": [
    {
     "data": {
      "text/plain": [
       "False"
      ]
     },
     "execution_count": 12,
     "metadata": {},
     "output_type": "execute_result"
    }
   ],
   "source": [
    "name.endswith(\"rug\") #false"
   ]
  },
  {
   "cell_type": "code",
   "execution_count": 16,
   "id": "0555cab1-9e04-496c-a661-9fa59dcac62d",
   "metadata": {},
   "outputs": [
    {
     "data": {
      "text/plain": [
       "1"
      ]
     },
     "execution_count": 16,
     "metadata": {},
     "output_type": "execute_result"
    }
   ],
   "source": [
    "name.count(\"R\") #count of specific character"
   ]
  },
  {
   "cell_type": "code",
   "execution_count": 18,
   "id": "334d2058-d552-4cd5-a64e-6a02ce52b20c",
   "metadata": {},
   "outputs": [
    {
     "name": "stdout",
     "output_type": "stream",
     "text": [
      "6\n"
     ]
    }
   ],
   "source": [
    "print(len(name))"
   ]
  },
  {
   "cell_type": "code",
   "execution_count": 19,
   "id": "d6b5efc6-99d8-44b5-82a2-7b599c6ba955",
   "metadata": {},
   "outputs": [
    {
     "name": "stdout",
     "output_type": "stream",
     "text": [
      "Rugved\n"
     ]
    }
   ],
   "source": [
    "print(name.strip()) #removes spaces"
   ]
  },
  {
   "cell_type": "code",
   "execution_count": 20,
   "id": "02fa47d1-9d01-45e2-86f3-3eccbbb1765a",
   "metadata": {},
   "outputs": [
    {
     "name": "stdout",
     "output_type": "stream",
     "text": [
      "['apple', 'banana', 'grape']\n"
     ]
    }
   ],
   "source": [
    "s = \"apple,banana,grape\"\n",
    "print(s.split(\",\"))  # ['apple', 'banana', 'grape']"
   ]
  },
  {
   "cell_type": "code",
   "execution_count": 21,
   "id": "4b2c26d2-1050-473f-8d8c-f504b74da887",
   "metadata": {},
   "outputs": [
    {
     "name": "stdout",
     "output_type": "stream",
     "text": [
      "apple-banana-grape\n"
     ]
    }
   ],
   "source": [
    "fruits = ['apple', 'banana', 'grape']\n",
    "print(\"-\".join(fruits))  # apple-banana-grape"
   ]
  },
  {
   "cell_type": "code",
   "execution_count": 22,
   "id": "043a9da9-bb91-4cf2-969e-e022b6d559c1",
   "metadata": {},
   "outputs": [
    {
     "name": "stdout",
     "output_type": "stream",
     "text": [
      "6\n",
      "-1\n"
     ]
    }
   ],
   "source": [
    "s = \"hello world\"\n",
    "print(s.find(\"world\"))  # 6\n",
    "print(s.find(\"hi\"))     # -1"
   ]
  },
  {
   "cell_type": "code",
   "execution_count": 24,
   "id": "2d5fbbaa-554b-4328-b7de-7bbd3ad8f3a7",
   "metadata": {},
   "outputs": [
    {
     "name": "stdout",
     "output_type": "stream",
     "text": [
      "I like Python\n"
     ]
    }
   ],
   "source": [
    "s = \"I like Java\"\n",
    "print(s.replace(\"Java\", \"Python\"))  # I like Python"
   ]
  },
  {
   "cell_type": "code",
   "execution_count": 25,
   "id": "36e46bbd-4521-49a1-98a3-be9bd615bae0",
   "metadata": {},
   "outputs": [
    {
     "name": "stdout",
     "output_type": "stream",
     "text": [
      "True\n",
      "True\n"
     ]
    }
   ],
   "source": [
    "s = \"programming\"\n",
    "print(s.startswith(\"pro\"))  # True\n",
    "print(s.endswith(\"ing\"))    # True"
   ]
  },
  {
   "cell_type": "code",
   "execution_count": 26,
   "id": "89ec2c1a-3ae8-4769-9cfc-ade1b2bdf810",
   "metadata": {},
   "outputs": [
    {
     "name": "stdout",
     "output_type": "stream",
     "text": [
      "True\n",
      "True\n",
      "True\n",
      "True\n"
     ]
    }
   ],
   "source": [
    "print(\"abc\".isalpha())   # True\n",
    "print(\"123\".isdigit())   # True\n",
    "print(\"abc123\".isalnum()) # True\n",
    "print(\"   \".isspace())    # True"
   ]
  }
 ],
 "metadata": {
  "kernelspec": {
   "display_name": "Python 3 (ipykernel)",
   "language": "python",
   "name": "python3"
  },
  "language_info": {
   "codemirror_mode": {
    "name": "ipython",
    "version": 3
   },
   "file_extension": ".py",
   "mimetype": "text/x-python",
   "name": "python",
   "nbconvert_exporter": "python",
   "pygments_lexer": "ipython3",
   "version": "3.13.5"
  }
 },
 "nbformat": 4,
 "nbformat_minor": 5
}
