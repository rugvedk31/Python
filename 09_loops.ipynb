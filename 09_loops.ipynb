{
 "cells": [
  {
   "cell_type": "markdown",
   "id": "b62ae749-0e01-434d-87a4-744fb7adae43",
   "metadata": {},
   "source": [
    "Loops in python"
   ]
  },
  {
   "cell_type": "markdown",
   "id": "136eaec1-9f0a-4af3-bb96-348dbbcb6cd7",
   "metadata": {},
   "source": [
    "For loop"
   ]
  },
  {
   "cell_type": "code",
   "execution_count": 1,
   "id": "1773500c-68b9-4d12-9ddb-be987bc1b8a4",
   "metadata": {},
   "outputs": [
    {
     "name": "stdout",
     "output_type": "stream",
     "text": [
      "1\n",
      "2\n",
      "3\n",
      "4\n",
      "5\n"
     ]
    }
   ],
   "source": [
    "a = [1,2,3,4,5]\n",
    "for num in a :\n",
    "    print(num)"
   ]
  },
  {
   "cell_type": "code",
   "execution_count": 4,
   "id": "48247009-0d25-4503-ac94-07f1785d641b",
   "metadata": {},
   "outputs": [
    {
     "name": "stdout",
     "output_type": "stream",
     "text": [
      "0\n",
      "1\n",
      "2\n",
      "3\n",
      "4\n",
      "5\n",
      "6\n",
      "7\n",
      "8\n",
      "9\n"
     ]
    }
   ],
   "source": [
    "for i in range(10):\n",
    "    print(i)\n",
    "#interview que - what is output"
   ]
  },
  {
   "cell_type": "markdown",
   "id": "9e3c9dc1-aeef-4db4-9a71-d44fc8b9ddaa",
   "metadata": {},
   "source": [
    "While loop"
   ]
  },
  {
   "cell_type": "code",
   "execution_count": 1,
   "id": "7020a930-1a8f-4d6d-a9c4-1ae714997c58",
   "metadata": {},
   "outputs": [
    {
     "name": "stdout",
     "output_type": "stream",
     "text": [
      "0\n",
      "1\n",
      "2\n"
     ]
    }
   ],
   "source": [
    "count = 0\n",
    "while count < 3:\n",
    "    print(count)\n",
    "    count +=1"
   ]
  },
  {
   "cell_type": "markdown",
   "id": "b18bb1f8-3e7b-4980-8103-eaaf42c6d757",
   "metadata": {},
   "source": [
    "Loop control statements"
   ]
  },
  {
   "cell_type": "markdown",
   "id": "81548f63-5e83-4a58-abbf-9065a0e6815c",
   "metadata": {},
   "source": [
    "break/continue/pass"
   ]
  },
  {
   "cell_type": "code",
   "execution_count": 6,
   "id": "488af14e-e756-45dd-885c-69751caa627a",
   "metadata": {},
   "outputs": [
    {
     "name": "stdout",
     "output_type": "stream",
     "text": [
      "0\n",
      "1\n",
      "2\n"
     ]
    }
   ],
   "source": [
    "for i in range(5):\n",
    "    if(i == 3):\n",
    "        break;\n",
    "    print(i)"
   ]
  }
 ],
 "metadata": {
  "kernelspec": {
   "display_name": "Python 3 (ipykernel)",
   "language": "python",
   "name": "python3"
  },
  "language_info": {
   "codemirror_mode": {
    "name": "ipython",
    "version": 3
   },
   "file_extension": ".py",
   "mimetype": "text/x-python",
   "name": "python",
   "nbconvert_exporter": "python",
   "pygments_lexer": "ipython3",
   "version": "3.13.5"
  }
 },
 "nbformat": 4,
 "nbformat_minor": 5
}
