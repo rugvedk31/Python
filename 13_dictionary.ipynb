{
 "cells": [
  {
   "cell_type": "markdown",
   "id": "b12be703-bc7f-4c2b-91e1-8d2b203cb3c2",
   "metadata": {},
   "source": [
    "Dictionary - unordered, mutable and key-value pair collection.from python 3.7 the dictionary becomes orderd"
   ]
  },
  {
   "cell_type": "code",
   "execution_count": 4,
   "id": "09d13c70-8e53-4764-9684-8ba466e06e00",
   "metadata": {},
   "outputs": [
    {
     "data": {
      "text/plain": [
       "{}"
      ]
     },
     "execution_count": 4,
     "metadata": {},
     "output_type": "execute_result"
    }
   ],
   "source": [
    "# Empty dictionary\n",
    "empty_dict = {}\n",
    "empty_dict"
   ]
  },
  {
   "cell_type": "code",
   "execution_count": 5,
   "id": "f3b5f51e-b381-469b-8dab-bd4d0c3f8e38",
   "metadata": {},
   "outputs": [
    {
     "data": {
      "text/plain": [
       "dict"
      ]
     },
     "execution_count": 5,
     "metadata": {},
     "output_type": "execute_result"
    }
   ],
   "source": [
    "type(empty_dict)"
   ]
  },
  {
   "cell_type": "code",
   "execution_count": 8,
   "id": "b04ee590-efbd-4328-bc49-1a45617066e9",
   "metadata": {},
   "outputs": [
    {
     "data": {
      "text/plain": [
       "{'name': 'Alice', 'age': 25, 'grade': 'A'}"
      ]
     },
     "execution_count": 8,
     "metadata": {},
     "output_type": "execute_result"
    }
   ],
   "source": [
    "# Dictionary with key-value pairs\n",
    "student = {\n",
    "    \"name\": \"Alice\",\n",
    "    \"age\": 25,\n",
    "    \"grade\": \"A\"\n",
    "}\n",
    "student"
   ]
  },
  {
   "cell_type": "code",
   "execution_count": 9,
   "id": "ed0a390f-42e3-47c3-92a8-cf6fd7b91b27",
   "metadata": {},
   "outputs": [
    {
     "data": {
      "text/plain": [
       "'Alice'"
      ]
     },
     "execution_count": 9,
     "metadata": {},
     "output_type": "execute_result"
    }
   ],
   "source": [
    "student[\"name\"] #fastest access"
   ]
  },
  {
   "cell_type": "code",
   "execution_count": 12,
   "id": "54859977-08b2-4da0-986e-c7a309119a86",
   "metadata": {},
   "outputs": [
    {
     "name": "stdout",
     "output_type": "stream",
     "text": [
      "25\n",
      "None\n",
      "Not Found\n"
     ]
    }
   ],
   "source": [
    "# Using get() (avoids KeyError if key doesn't exist)\n",
    "print(student.get(\"age\"))  # 25\n",
    "print(student.get(\"height\"))\n",
    "print(student.get(\"height\", \"Not Found\"))  # Default value"
   ]
  },
  {
   "cell_type": "code",
   "execution_count": 13,
   "id": "eb22918b-4ada-4e15-8a20-887ed1561b3e",
   "metadata": {},
   "outputs": [
    {
     "data": {
      "text/plain": [
       "dict_keys(['name', 'age', 'grade'])"
      ]
     },
     "execution_count": 13,
     "metadata": {},
     "output_type": "execute_result"
    }
   ],
   "source": [
    "#keys - return all keys of the dir\n",
    "student.keys()"
   ]
  },
  {
   "cell_type": "code",
   "execution_count": 15,
   "id": "7210aa4f-7fab-49c5-81e2-2a3e819e3fe5",
   "metadata": {},
   "outputs": [
    {
     "data": {
      "text/plain": [
       "dict_values(['Alice', 25, 'A'])"
      ]
     },
     "execution_count": 15,
     "metadata": {},
     "output_type": "execute_result"
    }
   ],
   "source": [
    "#value - return all values of the dir\n",
    "student.values()"
   ]
  },
  {
   "cell_type": "code",
   "execution_count": 17,
   "id": "88d39e4d-8cd8-479f-9134-6e8c5ea86cff",
   "metadata": {},
   "outputs": [
    {
     "data": {
      "text/plain": [
       "dict_items([('name', 'Alice'), ('age', 25), ('grade', 'A')])"
      ]
     },
     "execution_count": 17,
     "metadata": {},
     "output_type": "execute_result"
    }
   ],
   "source": [
    "#item- return key-value as a tuple\n",
    "student.items()"
   ]
  },
  {
   "cell_type": "code",
   "execution_count": 19,
   "id": "2a170b84-9ae9-4fc8-8f26-59bf6e2de021",
   "metadata": {},
   "outputs": [
    {
     "data": {
      "text/plain": [
       "26"
      ]
     },
     "execution_count": 19,
     "metadata": {},
     "output_type": "execute_result"
    }
   ],
   "source": [
    "#update - upadate the value of the key \n",
    "student.update({\"age\":26})\n",
    "student.get(\"age\",0)"
   ]
  },
  {
   "cell_type": "code",
   "execution_count": 20,
   "id": "0d3c5204-5dc9-4a66-ab11-3a556d567f9e",
   "metadata": {},
   "outputs": [
    {
     "data": {
      "text/plain": [
       "'A'"
      ]
     },
     "execution_count": 20,
     "metadata": {},
     "output_type": "execute_result"
    }
   ],
   "source": [
    "#pop - remove the key and return its value\n",
    "student.pop(\"grade\")"
   ]
  },
  {
   "cell_type": "code",
   "execution_count": 23,
   "id": "d7bb0c78-ed46-4e33-85c4-f5db71a1cfd3",
   "metadata": {},
   "outputs": [
    {
     "data": {
      "text/plain": [
       "{'name': 'Alice', 'age': 26}"
      ]
     },
     "execution_count": 23,
     "metadata": {},
     "output_type": "execute_result"
    }
   ],
   "source": [
    "#copy - return shallow copy of the dir\n",
    "newDir = student.copy()\n",
    "newDir"
   ]
  },
  {
   "cell_type": "code",
   "execution_count": 26,
   "id": "89757117-5f3b-4632-97c1-24a8cc9c2fa7",
   "metadata": {},
   "outputs": [
    {
     "data": {
      "text/plain": [
       "{}"
      ]
     },
     "execution_count": 26,
     "metadata": {},
     "output_type": "execute_result"
    }
   ],
   "source": [
    "#clear - removes all the key value\n",
    "newDir.clear()\n",
    "newDir"
   ]
  },
  {
   "cell_type": "code",
   "execution_count": 29,
   "id": "804cf0af-6bef-4f1e-85af-de1fd34aa90b",
   "metadata": {},
   "outputs": [
    {
     "name": "stdout",
     "output_type": "stream",
     "text": [
      "name : Alice\n",
      "age : 26\n"
     ]
    }
   ],
   "source": [
    "# Iterating over a dictionary\n",
    "for key, value in student.items():\n",
    "    print(key, \":\", value)"
   ]
  }
 ],
 "metadata": {
  "kernelspec": {
   "display_name": "Python 3 (ipykernel)",
   "language": "python",
   "name": "python3"
  },
  "language_info": {
   "codemirror_mode": {
    "name": "ipython",
    "version": 3
   },
   "file_extension": ".py",
   "mimetype": "text/x-python",
   "name": "python",
   "nbconvert_exporter": "python",
   "pygments_lexer": "ipython3",
   "version": "3.13.5"
  }
 },
 "nbformat": 4,
 "nbformat_minor": 5
}
