{
 "cells": [
  {
   "cell_type": "markdown",
   "id": "6033e745-59a1-43f5-9c28-59801332b70e",
   "metadata": {},
   "source": [
    "File Handling - read , write and manipulate files stored on disk."
   ]
  },
  {
   "cell_type": "code",
   "execution_count": 26,
   "id": "81957781-0d21-4ddb-bd45-3cccf59930fc",
   "metadata": {},
   "outputs": [],
   "source": [
    "#open file\n",
    "f = open(\"file.txt\",\"r\") #r for the reading format"
   ]
  },
  {
   "cell_type": "code",
   "execution_count": 27,
   "id": "db393862-2a3b-4eeb-8a3a-1808ae9b9e93",
   "metadata": {},
   "outputs": [
    {
     "data": {
      "text/plain": [
       "'File Handling'"
      ]
     },
     "execution_count": 27,
     "metadata": {},
     "output_type": "execute_result"
    }
   ],
   "source": [
    "f.read()"
   ]
  },
  {
   "cell_type": "code",
   "execution_count": 28,
   "id": "f559c835-16bb-45af-9625-c5a0726c8062",
   "metadata": {},
   "outputs": [],
   "source": [
    "f.close()"
   ]
  },
  {
   "cell_type": "code",
   "execution_count": 29,
   "id": "593bfa0d-abb6-48a3-9439-20dbdb29b586",
   "metadata": {},
   "outputs": [],
   "source": [
    "#write\n",
    "s = \"This is a nice way to learn python using jupyter notebook\""
   ]
  },
  {
   "cell_type": "code",
   "execution_count": 31,
   "id": "07b0e0fc-6d50-474c-89fc-3ca3b63481d4",
   "metadata": {},
   "outputs": [
    {
     "data": {
      "text/plain": [
       "57"
      ]
     },
     "execution_count": 31,
     "metadata": {},
     "output_type": "execute_result"
    }
   ],
   "source": [
    "f = open(\"newFile.txt\",\"w\")\n",
    "f.write(s)"
   ]
  },
  {
   "cell_type": "code",
   "execution_count": 33,
   "id": "3025760e-4971-4774-a736-ed74a9a467aa",
   "metadata": {},
   "outputs": [],
   "source": [
    "f.close()"
   ]
  }
 ],
 "metadata": {
  "kernelspec": {
   "display_name": "Python 3 (ipykernel)",
   "language": "python",
   "name": "python3"
  },
  "language_info": {
   "codemirror_mode": {
    "name": "ipython",
    "version": 3
   },
   "file_extension": ".py",
   "mimetype": "text/x-python",
   "name": "python",
   "nbconvert_exporter": "python",
   "pygments_lexer": "ipython3",
   "version": "3.13.5"
  }
 },
 "nbformat": 4,
 "nbformat_minor": 5
}
