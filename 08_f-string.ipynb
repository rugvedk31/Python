{
 "cells": [
  {
   "cell_type": "code",
   "execution_count": 1,
   "id": "d52245a0-2e83-4c3f-9c15-3535884c1893",
   "metadata": {},
   "outputs": [],
   "source": [
    "name = \"Rugved\"\n",
    "age = 21"
   ]
  },
  {
   "cell_type": "markdown",
   "id": "27e11773-3f43-4d22-bfcf-a0b8b886b2a1",
   "metadata": {},
   "source": [
    "String formatting"
   ]
  },
  {
   "cell_type": "markdown",
   "id": "0cfefc25-f567-44d1-a50c-a35f8df248a5",
   "metadata": {},
   "source": [
    "Using format()"
   ]
  },
  {
   "cell_type": "code",
   "execution_count": 2,
   "id": "8607b9b9-2148-4175-97bc-4111ac535490",
   "metadata": {},
   "outputs": [
    {
     "name": "stdout",
     "output_type": "stream",
     "text": [
      "Hey my name is Rugved and my age is 21 \n"
     ]
    }
   ],
   "source": [
    "print(\"Hey my name is {} and my age is {} \".format(name, age))"
   ]
  },
  {
   "cell_type": "markdown",
   "id": "3916edb2-0370-4e9a-a026-28a9138a3076",
   "metadata": {},
   "source": [
    "Using positioning"
   ]
  },
  {
   "cell_type": "code",
   "execution_count": 7,
   "id": "f5cd60ef-99f6-4c24-84fe-786b78b05f35",
   "metadata": {},
   "outputs": [
    {
     "name": "stdout",
     "output_type": "stream",
     "text": [
      "Hey my name is Alice and my age is 23\n"
     ]
    }
   ],
   "source": [
    "print(\"Hey my name is {0} and my age is {1}\".format(\"Alice\",23))"
   ]
  },
  {
   "cell_type": "markdown",
   "id": "67492858-d575-471d-8c24-e50fa95bbc2f",
   "metadata": {},
   "source": [
    "using keyword arguments"
   ]
  },
  {
   "cell_type": "code",
   "execution_count": 8,
   "id": "d8c3ad40-5e4f-4a38-95b2-7206789c1533",
   "metadata": {},
   "outputs": [
    {
     "name": "stdout",
     "output_type": "stream",
     "text": [
      "Hey my name is Alice and my age is 23\n"
     ]
    }
   ],
   "source": [
    "print(\"Hey my name is {name} and my age is {age}\".format(name=\"Alice\",age=23))"
   ]
  },
  {
   "cell_type": "markdown",
   "id": "5443c7cf-23f3-466c-88b3-36a9f10f1d6e",
   "metadata": {},
   "source": [
    "F-String"
   ]
  },
  {
   "cell_type": "code",
   "execution_count": 12,
   "id": "e118b161-703a-4a1d-8737-00a8f1de5795",
   "metadata": {},
   "outputs": [],
   "source": [
    "name = \"Rohit Sharma\"\n",
    "age = 35\n",
    "runs = 10000"
   ]
  },
  {
   "cell_type": "code",
   "execution_count": 13,
   "id": "5f8398b1-06a7-449c-bc24-d223d75783f1",
   "metadata": {},
   "outputs": [
    {
     "name": "stdout",
     "output_type": "stream",
     "text": [
      "Hey I am Rohit Sharma and my age is 35 and my total runs in T20 format are 10000, Thank you!\n"
     ]
    }
   ],
   "source": [
    "print(f\"Hey I am {name} and my age is {age} and my total runs in T20 format are {runs}, Thank you!\")"
   ]
  },
  {
   "cell_type": "markdown",
   "id": "6220ad6b-5075-46c9-9bc1-2424d973326e",
   "metadata": {},
   "source": [
    "Formatting numbers"
   ]
  },
  {
   "cell_type": "code",
   "execution_count": 15,
   "id": "ae19e3ad-d25a-4ad9-9573-b1ac318f86a8",
   "metadata": {},
   "outputs": [
    {
     "name": "stdout",
     "output_type": "stream",
     "text": [
      "The value of PI is near about 2 decimal places is : 3.14\n"
     ]
    }
   ],
   "source": [
    "pi = 3.14159\n",
    "print(f\"The value of PI is near about 2 decimal places is : {pi:.2f}\")"
   ]
  },
  {
   "cell_type": "markdown",
   "id": "6639a9aa-9ede-4fa6-97ce-9fc75fbbe83f",
   "metadata": {},
   "source": [
    "Padding and Alignment"
   ]
  },
  {
   "cell_type": "code",
   "execution_count": 20,
   "id": "6c9d37fb-0c2e-4dc0-ad6a-72cbd268ed3d",
   "metadata": {},
   "outputs": [
    {
     "name": "stdout",
     "output_type": "stream",
     "text": [
      "python    \n",
      "    python\n",
      "  python  \n"
     ]
    }
   ],
   "source": [
    "print(f\"{'python':<10}\") #left-algin\n",
    "print(f\"{'python':>10}\") #right-align\n",
    "print(f\"{'python':^10}\") #center-align"
   ]
  }
 ],
 "metadata": {
  "kernelspec": {
   "display_name": "Python 3 (ipykernel)",
   "language": "python",
   "name": "python3"
  },
  "language_info": {
   "codemirror_mode": {
    "name": "ipython",
    "version": 3
   },
   "file_extension": ".py",
   "mimetype": "text/x-python",
   "name": "python",
   "nbconvert_exporter": "python",
   "pygments_lexer": "ipython3",
   "version": "3.13.5"
  }
 },
 "nbformat": 4,
 "nbformat_minor": 5
}
