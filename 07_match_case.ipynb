{
 "cells": [
  {
   "cell_type": "markdown",
   "id": "2c4c99e5-2f37-487b-86fe-28704327d041",
   "metadata": {},
   "source": [
    "Match case in python is same as switch case in c language."
   ]
  },
  {
   "cell_type": "code",
   "execution_count": 10,
   "id": "e407c114-4eaf-44ac-9a0b-fe728be2be44",
   "metadata": {},
   "outputs": [],
   "source": [
    "def https_code(code):\n",
    "    match code:\n",
    "        case 200:\n",
    "            print(\"OK\")\n",
    "        case 400:\n",
    "            print(\"Bad Request\")\n",
    "        case 404:\n",
    "            print(\"Not Found\")\n",
    "        case 500:\n",
    "            print(\"Internal Server Error\")\n",
    "        case _:\n",
    "            print(\"Unknown Status\")"
   ]
  },
  {
   "cell_type": "code",
   "execution_count": 11,
   "id": "25f8d58d-ba47-4341-8abb-126851d0a951",
   "metadata": {},
   "outputs": [
    {
     "name": "stdout",
     "output_type": "stream",
     "text": [
      "OK\n"
     ]
    }
   ],
   "source": [
    "https_code(200)"
   ]
  },
  {
   "cell_type": "code",
   "execution_count": 12,
   "id": "cd01fea2-275c-4e85-943d-68f751e2ad59",
   "metadata": {},
   "outputs": [
    {
     "name": "stdout",
     "output_type": "stream",
     "text": [
      "Unknown Status\n"
     ]
    }
   ],
   "source": [
    "https_code(_)"
   ]
  },
  {
   "cell_type": "code",
   "execution_count": 13,
   "id": "0a198550-8888-4bd3-8b87-c9d9b902acba",
   "metadata": {},
   "outputs": [
    {
     "name": "stdout",
     "output_type": "stream",
     "text": [
      "Not Found\n"
     ]
    }
   ],
   "source": [
    "https_code(404)"
   ]
  },
  {
   "cell_type": "code",
   "execution_count": 14,
   "id": "fe746915-0835-4fa9-bba5-56864269f2e8",
   "metadata": {},
   "outputs": [
    {
     "name": "stdout",
     "output_type": "stream",
     "text": [
      "Internal Server Error\n"
     ]
    }
   ],
   "source": [
    "https_code(500)"
   ]
  },
  {
   "cell_type": "code",
   "execution_count": 15,
   "id": "6811a829-225f-4466-87dd-f1c4891403b1",
   "metadata": {},
   "outputs": [
    {
     "name": "stdout",
     "output_type": "stream",
     "text": [
      "Bad Request\n"
     ]
    }
   ],
   "source": [
    "https_code(400)"
   ]
  }
 ],
 "metadata": {
  "kernelspec": {
   "display_name": "Python 3 (ipykernel)",
   "language": "python",
   "name": "python3"
  },
  "language_info": {
   "codemirror_mode": {
    "name": "ipython",
    "version": 3
   },
   "file_extension": ".py",
   "mimetype": "text/x-python",
   "name": "python",
   "nbconvert_exporter": "python",
   "pygments_lexer": "ipython3",
   "version": "3.13.5"
  }
 },
 "nbformat": 4,
 "nbformat_minor": 5
}
