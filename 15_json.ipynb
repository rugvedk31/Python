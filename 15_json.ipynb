{
 "cells": [
  {
   "cell_type": "markdown",
   "id": "358ddb0f-569c-4d5b-a2cb-e36b64bb4f6a",
   "metadata": {},
   "source": [
    "JSON (JavaScript Object Notation) is a lightweight data format used for data exchange between servers and applications. It is widely used in APIs, web applications, and configurations."
   ]
  },
  {
   "cell_type": "code",
   "execution_count": 2,
   "id": "4deae75b-5b42-4e12-9aa6-9c4cb9e7ec9c",
   "metadata": {},
   "outputs": [],
   "source": [
    "import json"
   ]
  },
  {
   "cell_type": "code",
   "execution_count": 3,
   "id": "39c45f48-64b6-4b3b-8adf-5346dde177f0",
   "metadata": {},
   "outputs": [],
   "source": [
    "obj = {\"name\":\"Rugved\", \"company\":\"xyz\",\"salary\":50000}"
   ]
  },
  {
   "cell_type": "code",
   "execution_count": 4,
   "id": "64ea88b1-8656-4537-a01f-427a3f30bd08",
   "metadata": {},
   "outputs": [],
   "source": [
    "s = json.dumps(obj) #dupms as a string"
   ]
  },
  {
   "cell_type": "code",
   "execution_count": 5,
   "id": "bc2078ec-46e8-4ad9-9471-37801ed1dd25",
   "metadata": {},
   "outputs": [
    {
     "name": "stdout",
     "output_type": "stream",
     "text": [
      "{\"name\": \"Rugved\", \"company\": \"xyz\", \"salary\": 50000}\n"
     ]
    }
   ],
   "source": [
    "print(s)"
   ]
  },
  {
   "cell_type": "code",
   "execution_count": 6,
   "id": "ef326d6e-a048-422f-bb76-d97ee919d891",
   "metadata": {},
   "outputs": [
    {
     "data": {
      "text/plain": [
       "str"
      ]
     },
     "execution_count": 6,
     "metadata": {},
     "output_type": "execute_result"
    }
   ],
   "source": [
    "type(s)"
   ]
  },
  {
   "cell_type": "markdown",
   "id": "1d7234b3-fd5d-4fec-93f0-37d2d35252b6",
   "metadata": {},
   "source": [
    "Note - dumps converts the python objects into json string"
   ]
  },
  {
   "cell_type": "markdown",
   "id": "45b795c7-db10-4162-a6bf-e4609f896fac",
   "metadata": {},
   "source": [
    "Note - loads converts the json string into python objects"
   ]
  },
  {
   "cell_type": "code",
   "execution_count": 7,
   "id": "0cdf3250-e695-4474-89ea-fccf13ead685",
   "metadata": {},
   "outputs": [],
   "source": [
    "d = json.loads('{\"name\": \"Rugved\", \"company\": \"xyz\", \"salary\": 50000}')"
   ]
  },
  {
   "cell_type": "code",
   "execution_count": 8,
   "id": "b5fc996c-13a3-4c86-aee2-dcf53eeba912",
   "metadata": {},
   "outputs": [
    {
     "data": {
      "text/plain": [
       "dict"
      ]
     },
     "execution_count": 8,
     "metadata": {},
     "output_type": "execute_result"
    }
   ],
   "source": [
    "type(d)"
   ]
  },
  {
   "cell_type": "code",
   "execution_count": 16,
   "id": "196abd79-e353-4081-be5f-d6894ae0a3a0",
   "metadata": {},
   "outputs": [],
   "source": [
    "#dump - write data\n",
    "f = open(\"jsonStudy.json\",\"w\")"
   ]
  },
  {
   "cell_type": "code",
   "execution_count": 17,
   "id": "3ff92359-04e0-4dd1-815f-7815c20c9b4b",
   "metadata": {},
   "outputs": [],
   "source": [
    "json.dump(obj,f) #this will write the data into text file"
   ]
  },
  {
   "cell_type": "code",
   "execution_count": 18,
   "id": "1826881c-bd30-4b0e-9809-52e015dbfcd0",
   "metadata": {},
   "outputs": [],
   "source": [
    "f.close()"
   ]
  },
  {
   "cell_type": "code",
   "execution_count": 22,
   "id": "ae51cbec-2b78-4bba-b129-8bb05199b793",
   "metadata": {},
   "outputs": [
    {
     "name": "stdout",
     "output_type": "stream",
     "text": [
      "{\n",
      "    \"name\": \"Rugved\",\n",
      "    \"company\": \"xyz\",\n",
      "    \"salary\": 50000\n",
      "}\n"
     ]
    }
   ],
   "source": [
    "#formatting json output\n",
    "json_format= json.dumps(obj,indent=4)\n",
    "print(json_format)"
   ]
  }
 ],
 "metadata": {
  "kernelspec": {
   "display_name": "Python 3 (ipykernel)",
   "language": "python",
   "name": "python3"
  },
  "language_info": {
   "codemirror_mode": {
    "name": "ipython",
    "version": 3
   },
   "file_extension": ".py",
   "mimetype": "text/x-python",
   "name": "python",
   "nbconvert_exporter": "python",
   "pygments_lexer": "ipython3",
   "version": "3.13.5"
  }
 },
 "nbformat": 4,
 "nbformat_minor": 5
}
