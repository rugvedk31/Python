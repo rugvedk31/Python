{
 "cells": [
  {
   "cell_type": "markdown",
   "id": "bd7f679c-8159-45bf-923f-bdfe4244762c",
   "metadata": {},
   "source": [
    "Class and Constructor"
   ]
  },
  {
   "cell_type": "code",
   "execution_count": 14,
   "id": "bae1188c-679c-4952-b1c7-7d09b0f2b28f",
   "metadata": {},
   "outputs": [
    {
     "name": "stdout",
     "output_type": "stream",
     "text": [
      "The company is HP and the employee is Rugved and his salary is 50000\n"
     ]
    }
   ],
   "source": [
    "class Employee:\n",
    "    company=\"HP\" #class attributes\n",
    "    #constructor\n",
    "    def __init__(self,name,salary): #instance attribute\n",
    "        self.name = name\n",
    "        self.salary = salary\n",
    "    def printDetails(self): #self allows each object to access its own data and attributes.\n",
    "        print(f\"The company is {self.company} and the employee is {self.name} and his salary is {self.salary}\")\n",
    "\n",
    "e = Employee(\"Rugved\",50000)\n",
    "e.printDetails()"
   ]
  },
  {
   "cell_type": "code",
   "execution_count": 16,
   "id": "7ec0cbcb-755a-468f-991b-aa3b7df8cd3c",
   "metadata": {},
   "outputs": [],
   "source": [
    "#constructor - init method is used to create the constructor"
   ]
  },
  {
   "cell_type": "markdown",
   "id": "11a4b5e3-df0c-434b-9448-feff2a0dbf14",
   "metadata": {},
   "source": [
    "Static method"
   ]
  },
  {
   "cell_type": "code",
   "execution_count": 20,
   "id": "2c7a471f-92e4-469a-8d63-f630f85a8a7e",
   "metadata": {},
   "outputs": [
    {
     "name": "stdout",
     "output_type": "stream",
     "text": [
      "The company is HP and the employee is Rugved and his salary is 50000\n",
      "This will print without using the self using the static method.\n",
      "The componey is HP\n"
     ]
    }
   ],
   "source": [
    "class Employee:\n",
    "    company=\"HP\"\n",
    "    def __init__(self,name,salary):\n",
    "        self.name = name\n",
    "        self.salary = salary\n",
    "    def printDetails(self): #self allows each object to access its own data and attributes.\n",
    "        print(f\"The company is {self.company} and the employee is {self.name} and his salary is {self.salary}\")\n",
    "\n",
    "    @staticmethod\n",
    "    def printStatic():\n",
    "        print(\"This will print without using the self using the static method.\")\n",
    "\n",
    "    @classmethod\n",
    "    def printClass(cls): #only access of class attributes not instance attribute\n",
    "        print(f\"The componey is {cls.company}\")\n",
    "\n",
    "e = Employee(\"Rugved\",50000)\n",
    "e.printDetails()\n",
    "e.printStatic()\n",
    "e.printClass()"
   ]
  },
  {
   "cell_type": "code",
   "execution_count": null,
   "id": "9ef435fe-8cc7-4359-8cf3-fb0b5ab96f2b",
   "metadata": {},
   "outputs": [],
   "source": []
  }
 ],
 "metadata": {
  "kernelspec": {
   "display_name": "Python 3 (ipykernel)",
   "language": "python",
   "name": "python3"
  },
  "language_info": {
   "codemirror_mode": {
    "name": "ipython",
    "version": 3
   },
   "file_extension": ".py",
   "mimetype": "text/x-python",
   "name": "python",
   "nbconvert_exporter": "python",
   "pygments_lexer": "ipython3",
   "version": "3.13.5"
  }
 },
 "nbformat": 4,
 "nbformat_minor": 5
}
