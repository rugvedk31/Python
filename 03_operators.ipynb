{
 "cells": [
  {
   "cell_type": "code",
   "execution_count": 1,
   "id": "299492b7-dcae-4e2f-b22e-a4bc855df062",
   "metadata": {},
   "outputs": [],
   "source": [
    "a = 10\n",
    "b= 5"
   ]
  },
  {
   "cell_type": "markdown",
   "id": "8efb5f4f-a226-4758-9c99-fb883058a4da",
   "metadata": {},
   "source": [
    "Arithmatic operators(+,-,*,/,%)"
   ]
  },
  {
   "cell_type": "code",
   "execution_count": 2,
   "id": "c87decea-59d1-431a-b260-e552a2c347bc",
   "metadata": {},
   "outputs": [
    {
     "name": "stdout",
     "output_type": "stream",
     "text": [
      "15\n",
      "5\n",
      "50\n",
      "2.0\n",
      "0\n"
     ]
    }
   ],
   "source": [
    "print(a+b)\n",
    "print(a-b)\n",
    "print(a*b)\n",
    "print(a/b)\n",
    "print(a%b)"
   ]
  },
  {
   "cell_type": "markdown",
   "id": "10f19601-b19b-46ee-a294-4618227b60bb",
   "metadata": {},
   "source": [
    "Additinal arithmatic operators //(Floor division), **(exponential)"
   ]
  },
  {
   "cell_type": "code",
   "execution_count": 3,
   "id": "0c82b3d8-e9f1-4549-abac-14a00f9851b7",
   "metadata": {},
   "outputs": [
    {
     "name": "stdout",
     "output_type": "stream",
     "text": [
      "2\n"
     ]
    }
   ],
   "source": [
    "print(a // b)"
   ]
  },
  {
   "cell_type": "code",
   "execution_count": 4,
   "id": "d95b8eb6-9bae-4b74-b853-20a096eee693",
   "metadata": {},
   "outputs": [
    {
     "name": "stdout",
     "output_type": "stream",
     "text": [
      "100000\n"
     ]
    }
   ],
   "source": [
    "print(a ** b)"
   ]
  },
  {
   "cell_type": "markdown",
   "id": "183ac7e6-e91b-4872-bf67-56873cece4e5",
   "metadata": {},
   "source": [
    "Comparison operators(==, !=, <, >, <=,>=)"
   ]
  },
  {
   "cell_type": "markdown",
   "id": "00a80421-431d-4179-bbf9-35dced273814",
   "metadata": {},
   "source": [
    "print(a==b)\n",
    "print(a!=b)\n",
    "print(a<b)\n",
    "print(a>b)\n",
    "print(a<=b)\n",
    "print(a>=b)"
   ]
  },
  {
   "cell_type": "markdown",
   "id": "a3a66c0d-f54f-4fbc-adeb-47a2d5570414",
   "metadata": {},
   "source": [
    "Logical operators(and, or, not)"
   ]
  },
  {
   "cell_type": "code",
   "execution_count": 8,
   "id": "ff673022-4ca0-4061-a17d-85da53cfc793",
   "metadata": {},
   "outputs": [
    {
     "name": "stdout",
     "output_type": "stream",
     "text": [
      "5\n",
      "10\n",
      "False\n"
     ]
    }
   ],
   "source": [
    "print(a and b)\n",
    "print(a or b)\n",
    "print(not a)"
   ]
  },
  {
   "cell_type": "markdown",
   "id": "5d1e7d55-af6e-41e6-ad5c-67ef7cfd5838",
   "metadata": {},
   "source": [
    "Bitwise operators(&, |)"
   ]
  },
  {
   "cell_type": "code",
   "execution_count": 9,
   "id": "f38d1053-c748-4540-8346-db3847da38fc",
   "metadata": {},
   "outputs": [
    {
     "name": "stdout",
     "output_type": "stream",
     "text": [
      "0\n",
      "15\n"
     ]
    }
   ],
   "source": [
    "print(a & b)\n",
    "print(a | b)"
   ]
  },
  {
   "cell_type": "markdown",
   "id": "f6648226-d1a4-43db-8eec-457a8601d437",
   "metadata": {},
   "source": [
    "Assignment operators(=, +=, -=, *=, /=,//=, %=, **=)"
   ]
  },
  {
   "cell_type": "code",
   "execution_count": 11,
   "id": "f2f650a3-6e0c-4242-ba7d-485d6598ded1",
   "metadata": {},
   "outputs": [
    {
     "name": "stdout",
     "output_type": "stream",
     "text": [
      "10.0\n"
     ]
    }
   ],
   "source": [
    "a = 10\n",
    "a += 5 #15\n",
    "a -= 5 #10\n",
    "a *= 5 #50\n",
    "a /= 5 #10.0\n",
    "print(a)"
   ]
  },
  {
   "cell_type": "markdown",
   "id": "7be851bb-0a23-451b-ad18-5cb3b1371849",
   "metadata": {},
   "source": [
    "Membership and identity operators"
   ]
  },
  {
   "cell_type": "code",
   "execution_count": 17,
   "id": "af04267e-0221-4b14-a76e-a83e3f390f93",
   "metadata": {},
   "outputs": [],
   "source": [
    "list=[1,2,3]\n",
    "x = 1"
   ]
  },
  {
   "cell_type": "code",
   "execution_count": 18,
   "id": "8920304c-d49c-4b97-8c70-95a53ec55c73",
   "metadata": {},
   "outputs": [
    {
     "data": {
      "text/plain": [
       "True"
      ]
     },
     "execution_count": 18,
     "metadata": {},
     "output_type": "execute_result"
    }
   ],
   "source": [
    "x in list #true"
   ]
  },
  {
   "cell_type": "code",
   "execution_count": 19,
   "id": "fa2c6615-13d4-4fb3-935c-9551b9ba6bfe",
   "metadata": {},
   "outputs": [
    {
     "data": {
      "text/plain": [
       "False"
      ]
     },
     "execution_count": 19,
     "metadata": {},
     "output_type": "execute_result"
    }
   ],
   "source": [
    "x not in list #false"
   ]
  },
  {
   "cell_type": "code",
   "execution_count": 20,
   "id": "3ea3bd65-24d4-460a-99df-50f485d271c5",
   "metadata": {},
   "outputs": [
    {
     "data": {
      "text/plain": [
       "False"
      ]
     },
     "execution_count": 20,
     "metadata": {},
     "output_type": "execute_result"
    }
   ],
   "source": [
    "x is a #false"
   ]
  },
  {
   "cell_type": "code",
   "execution_count": 21,
   "id": "a95a490c-4f2c-46e6-acca-3e216cebf0b5",
   "metadata": {},
   "outputs": [
    {
     "data": {
      "text/plain": [
       "True"
      ]
     },
     "execution_count": 21,
     "metadata": {},
     "output_type": "execute_result"
    }
   ],
   "source": [
    "x is not b #true"
   ]
  }
 ],
 "metadata": {
  "kernelspec": {
   "display_name": "Python 3 (ipykernel)",
   "language": "python",
   "name": "python3"
  },
  "language_info": {
   "codemirror_mode": {
    "name": "ipython",
    "version": 3
   },
   "file_extension": ".py",
   "mimetype": "text/x-python",
   "name": "python",
   "nbconvert_exporter": "python",
   "pygments_lexer": "ipython3",
   "version": "3.13.5"
  }
 },
 "nbformat": 4,
 "nbformat_minor": 5
}
