{
 "cells": [
  {
   "cell_type": "markdown",
   "id": "7d99e3cc-eb61-4d2e-a8e5-9221f13b57c6",
   "metadata": {},
   "source": [
    "Sets - sets in python is an unorderd, mutable and unique collection of elements "
   ]
  },
  {
   "cell_type": "code",
   "execution_count": 6,
   "id": "875bdeda-b81e-4312-96f3-910d6482504f",
   "metadata": {},
   "outputs": [
    {
     "data": {
      "text/plain": [
       "()"
      ]
     },
     "execution_count": 6,
     "metadata": {},
     "output_type": "execute_result"
    }
   ],
   "source": [
    "#empty set\n",
    "set = ()\n",
    "set"
   ]
  },
  {
   "cell_type": "code",
   "execution_count": 9,
   "id": "89d2e5fe-88ad-48d0-9546-2da1e1b681ec",
   "metadata": {},
   "outputs": [
    {
     "data": {
      "text/plain": [
       "{1, 2, 3, 4, 5}"
      ]
     },
     "execution_count": 9,
     "metadata": {},
     "output_type": "execute_result"
    }
   ],
   "source": [
    "# Set with elements\n",
    "numbers = {1, 2, 3, 4, 5}\n",
    "numbers"
   ]
  },
  {
   "cell_type": "code",
   "execution_count": 10,
   "id": "8a155697-c6fb-40c7-845f-c91dd3532e27",
   "metadata": {},
   "outputs": [
    {
     "data": {
      "text/plain": [
       "{1, 3.14, 'Hello'}"
      ]
     },
     "execution_count": 10,
     "metadata": {},
     "output_type": "execute_result"
    }
   ],
   "source": [
    "# Mixed data types\n",
    "mixed_set = {1, \"Hello\", 3.14, True}\n",
    "mixed_set"
   ]
  },
  {
   "cell_type": "code",
   "execution_count": 18,
   "id": "da108e1b-fe57-4e84-ae17-1cebe3b998a0",
   "metadata": {},
   "outputs": [],
   "source": [
    "#reset set\n",
    "del set"
   ]
  },
  {
   "cell_type": "code",
   "execution_count": 19,
   "id": "d06c3b12-9aea-4f67-a2bb-ebc3e5758368",
   "metadata": {},
   "outputs": [
    {
     "name": "stdout",
     "output_type": "stream",
     "text": [
      "{40, 10, 50, 20, 30}\n"
     ]
    }
   ],
   "source": [
    "# Creating a set from a list\n",
    "unique_numbers = set([10, 20, 20, 30, 40, 40, 50])\n",
    "print(unique_numbers)  # {10, 20, 30, 40, 50}"
   ]
  },
  {
   "cell_type": "markdown",
   "id": "64cc57b6-b37d-4bcb-85f2-77b01d052ce7",
   "metadata": {},
   "source": [
    "Set methods"
   ]
  },
  {
   "cell_type": "code",
   "execution_count": 20,
   "id": "6038f3fe-70db-4b2d-a59e-25e7c7d97b5a",
   "metadata": {},
   "outputs": [],
   "source": [
    "s = {4, 3, 6, 2, 66, 4}"
   ]
  },
  {
   "cell_type": "code",
   "execution_count": 22,
   "id": "42e829c9-0fb5-42bf-869f-fb990fdda86c",
   "metadata": {},
   "outputs": [
    {
     "data": {
      "text/plain": [
       "{2, 3, 4, 6, 34, 66}"
      ]
     },
     "execution_count": 22,
     "metadata": {},
     "output_type": "execute_result"
    }
   ],
   "source": [
    "#add - \n",
    "s.add(34)\n",
    "s"
   ]
  },
  {
   "cell_type": "code",
   "execution_count": 23,
   "id": "6182123f-c152-49e9-b0bc-659c65ba5273",
   "metadata": {},
   "outputs": [
    {
     "data": {
      "text/plain": [
       "{2, 3, 4, 6, 34, 64, 66, 233}"
      ]
     },
     "execution_count": 23,
     "metadata": {},
     "output_type": "execute_result"
    }
   ],
   "source": [
    "#update\n",
    "s.update([4, 64, 233])\n",
    "s"
   ]
  },
  {
   "cell_type": "code",
   "execution_count": 24,
   "id": "1c8f08c0-d6a6-42d0-acd3-b4cbc7827fa8",
   "metadata": {},
   "outputs": [
    {
     "data": {
      "text/plain": [
       "{1, 2, 3, 4, 5, 6}"
      ]
     },
     "execution_count": 24,
     "metadata": {},
     "output_type": "execute_result"
    }
   ],
   "source": [
    "#union\n",
    "set1 = {1, 2, 3, 4}\n",
    "set2 = {3, 4, 5, 6}\n",
    "set1.union(set2)"
   ]
  },
  {
   "cell_type": "code",
   "execution_count": 26,
   "id": "759ce386-b0e3-4721-ac2e-d7263408d699",
   "metadata": {},
   "outputs": [
    {
     "data": {
      "text/plain": [
       "{3, 4}"
      ]
     },
     "execution_count": 26,
     "metadata": {},
     "output_type": "execute_result"
    }
   ],
   "source": [
    "#intesrsection\n",
    "set1.intersection(set2)"
   ]
  },
  {
   "cell_type": "code",
   "execution_count": 32,
   "id": "42fa9864-ec53-47ea-944a-295f040ce8b0",
   "metadata": {},
   "outputs": [
    {
     "data": {
      "text/plain": [
       "True"
      ]
     },
     "execution_count": 32,
     "metadata": {},
     "output_type": "execute_result"
    }
   ],
   "source": [
    "#subset\n",
    "sub = {1, 3}\n",
    "sub.issubset(set1)"
   ]
  },
  {
   "cell_type": "code",
   "execution_count": 33,
   "id": "571a58f3-22b6-4f08-94d4-a58d31af5e4f",
   "metadata": {},
   "outputs": [
    {
     "data": {
      "text/plain": [
       "True"
      ]
     },
     "execution_count": 33,
     "metadata": {},
     "output_type": "execute_result"
    }
   ],
   "source": [
    "#superset\n",
    "set1.issuperset(sub)"
   ]
  }
 ],
 "metadata": {
  "kernelspec": {
   "display_name": "Python 3 (ipykernel)",
   "language": "python",
   "name": "python3"
  },
  "language_info": {
   "codemirror_mode": {
    "name": "ipython",
    "version": 3
   },
   "file_extension": ".py",
   "mimetype": "text/x-python",
   "name": "python",
   "nbconvert_exporter": "python",
   "pygments_lexer": "ipython3",
   "version": "3.13.5"
  }
 },
 "nbformat": 4,
 "nbformat_minor": 5
}
