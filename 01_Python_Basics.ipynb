{
 "cells": [
  {
   "cell_type": "markdown",
   "id": "c78f7556-315b-447f-832a-d1b9b193a3c4",
   "metadata": {},
   "source": [
    "Basics "
   ]
  },
  {
   "cell_type": "code",
   "execution_count": 1,
   "id": "9c9d49d4-a7aa-4db0-b93b-460055b49bc5",
   "metadata": {},
   "outputs": [],
   "source": [
    "a = 5"
   ]
  },
  {
   "cell_type": "code",
   "execution_count": 2,
   "id": "bea47970-30e0-4f1c-9c05-f6760c627c18",
   "metadata": {},
   "outputs": [],
   "source": [
    "b = 5"
   ]
  },
  {
   "cell_type": "code",
   "execution_count": 5,
   "id": "5bde98d0-f630-4f5f-9d0d-3fa0b711e395",
   "metadata": {},
   "outputs": [],
   "source": [
    "c = a+b"
   ]
  },
  {
   "cell_type": "markdown",
   "id": "8703fa2a-1da8-43c8-8f21-7894c6fa17aa",
   "metadata": {},
   "source": [
    "Print statment in python"
   ]
  },
  {
   "cell_type": "code",
   "execution_count": 19,
   "id": "cae5aecf-3ad2-4653-b882-6da8fff77bca",
   "metadata": {},
   "outputs": [
    {
     "name": "stdout",
     "output_type": "stream",
     "text": [
      "10\n"
     ]
    }
   ],
   "source": [
    "print(c)"
   ]
  },
  {
   "cell_type": "code",
   "execution_count": 20,
   "id": "74ea5d56-891c-46bd-99a1-56a9fa690e55",
   "metadata": {},
   "outputs": [
    {
     "name": "stdout",
     "output_type": "stream",
     "text": [
      "Hello World\n"
     ]
    }
   ],
   "source": [
    "print(\"Hello World\")"
   ]
  },
  {
   "cell_type": "markdown",
   "id": "0e9ab1f5-f2b9-4f75-9d11-0f0cefecbd62",
   "metadata": {},
   "source": [
    "Comment"
   ]
  },
  {
   "cell_type": "code",
   "execution_count": 23,
   "id": "981922ac-6603-4ad3-9f4c-cc180bda3a71",
   "metadata": {},
   "outputs": [],
   "source": [
    "# Comment in python"
   ]
  },
  {
   "cell_type": "markdown",
   "id": "eca67082-157f-431a-a502-b064647652f0",
   "metadata": {},
   "source": [
    "Data Types"
   ]
  },
  {
   "cell_type": "code",
   "execution_count": 24,
   "id": "51f0bc26-6532-45a3-9a8e-a81ac0437192",
   "metadata": {},
   "outputs": [],
   "source": [
    "x = 10 #int\n",
    "y = 20.9 #float\n",
    "z = \"String\" #str\n",
    "a = True #boolean"
   ]
  },
  {
   "cell_type": "markdown",
   "id": "9c81b0a8-e99f-422c-a511-3553457e45c8",
   "metadata": {},
   "source": [
    "Type Checking"
   ]
  },
  {
   "cell_type": "code",
   "execution_count": 25,
   "id": "a699967b-82f9-4aee-8751-66dcbe296374",
   "metadata": {},
   "outputs": [
    {
     "name": "stdout",
     "output_type": "stream",
     "text": [
      "<class 'int'>\n"
     ]
    }
   ],
   "source": [
    "print(type(x))"
   ]
  },
  {
   "cell_type": "markdown",
   "id": "3a4bcfa4-beda-49a9-83a8-fa6f3841bccc",
   "metadata": {},
   "source": [
    "Type Conversion"
   ]
  },
  {
   "cell_type": "code",
   "execution_count": 29,
   "id": "f96660aa-c5ef-441a-88bd-891847ef0b80",
   "metadata": {},
   "outputs": [
    {
     "name": "stdout",
     "output_type": "stream",
     "text": [
      "10.0\n",
      "20\n",
      "['a', 'b', 'c']\n"
     ]
    }
   ],
   "source": [
    "print(float(x)) #print 10.0\n",
    "print(int(y)) #print 20 not gives round figure values\n",
    "lst = list(\"abc\")  # print ['a', 'b', 'c']\n",
    "print(lst)"
   ]
  },
  {
   "cell_type": "code",
   "execution_count": null,
   "id": "16ffbc6b-8a7a-4c89-b93c-e1b5dff62810",
   "metadata": {},
   "outputs": [],
   "source": []
  }
 ],
 "metadata": {
  "kernelspec": {
   "display_name": "Python 3 (ipykernel)",
   "language": "python",
   "name": "python3"
  },
  "language_info": {
   "codemirror_mode": {
    "name": "ipython",
    "version": 3
   },
   "file_extension": ".py",
   "mimetype": "text/x-python",
   "name": "python",
   "nbconvert_exporter": "python",
   "pygments_lexer": "ipython3",
   "version": "3.13.5"
  }
 },
 "nbformat": 4,
 "nbformat_minor": 5
}
