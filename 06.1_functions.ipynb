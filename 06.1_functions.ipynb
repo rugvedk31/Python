{
 "cells": [
  {
   "cell_type": "markdown",
   "id": "0d47dadf-6708-4104-b5ec-be37628c4544",
   "metadata": {},
   "source": [
    "defualt function / non parametrized function"
   ]
  },
  {
   "cell_type": "code",
   "execution_count": 3,
   "id": "4a009275-5b07-4a29-b31c-ee39075af53f",
   "metadata": {},
   "outputs": [],
   "source": [
    "def fun():\n",
    "    print(\"Hello python coders!\")"
   ]
  },
  {
   "cell_type": "code",
   "execution_count": 4,
   "id": "8797912c-323e-4cd9-8b51-d09035e86dc3",
   "metadata": {},
   "outputs": [
    {
     "name": "stdout",
     "output_type": "stream",
     "text": [
      "Hello python coders!\n"
     ]
    }
   ],
   "source": [
    "fun()"
   ]
  },
  {
   "cell_type": "markdown",
   "id": "3021ac33-03c9-4eeb-9992-b2d9c0a093ea",
   "metadata": {},
   "source": [
    "Parameterized function"
   ]
  },
  {
   "cell_type": "code",
   "execution_count": 8,
   "id": "9a9da5a6-783f-46e4-a11e-6bc44ee8deb0",
   "metadata": {},
   "outputs": [],
   "source": [
    "def fun(a,b):\n",
    "    print(a+b)"
   ]
  },
  {
   "cell_type": "code",
   "execution_count": 12,
   "id": "b783d669-adfc-44e3-962b-2913dbdbc8a9",
   "metadata": {},
   "outputs": [
    {
     "name": "stdout",
     "output_type": "stream",
     "text": [
      "30\n"
     ]
    }
   ],
   "source": [
    "fun(10,20)"
   ]
  },
  {
   "cell_type": "markdown",
   "id": "0f9d2816-30e5-4f69-b542-96b53a4071fe",
   "metadata": {},
   "source": [
    "parametrized function with default values"
   ]
  },
  {
   "cell_type": "markdown",
   "id": "ca8bdf34-1d2e-4240-90e0-1581d44c9a57",
   "metadata": {},
   "source": [
    "Note - The default values are always keep in last."
   ]
  },
  {
   "cell_type": "code",
   "execution_count": 14,
   "id": "e23bc5f2-1ee6-4907-83b6-a4059dd8981f",
   "metadata": {},
   "outputs": [],
   "source": [
    "def fun(a,b,c=10):\n",
    "    print(a+b+c)\n"
   ]
  },
  {
   "cell_type": "code",
   "execution_count": 16,
   "id": "51f01c70-d21a-41da-beaf-43ec3d954f6b",
   "metadata": {},
   "outputs": [
    {
     "name": "stdout",
     "output_type": "stream",
     "text": [
      "40\n"
     ]
    }
   ],
   "source": [
    "fun(10,20)"
   ]
  },
  {
   "cell_type": "markdown",
   "id": "2336be0c-890f-4b97-a0b3-1d2cd04725fd",
   "metadata": {},
   "source": [
    "Also we can can give custome value to default values of function"
   ]
  },
  {
   "cell_type": "code",
   "execution_count": 17,
   "id": "d6f0afa1-8219-4d36-8412-8a718c3355f3",
   "metadata": {},
   "outputs": [
    {
     "name": "stdout",
     "output_type": "stream",
     "text": [
      "60\n"
     ]
    }
   ],
   "source": [
    "fun(10,20,30)"
   ]
  }
 ],
 "metadata": {
  "kernelspec": {
   "display_name": "Python 3 (ipykernel)",
   "language": "python",
   "name": "python3"
  },
  "language_info": {
   "codemirror_mode": {
    "name": "ipython",
    "version": 3
   },
   "file_extension": ".py",
   "mimetype": "text/x-python",
   "name": "python",
   "nbconvert_exporter": "python",
   "pygments_lexer": "ipython3",
   "version": "3.13.5"
  }
 },
 "nbformat": 4,
 "nbformat_minor": 5
}
