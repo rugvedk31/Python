{
 "cells": [
  {
   "cell_type": "markdown",
   "id": "f865f09a-234b-4cd6-a64f-eea03d55e395",
   "metadata": {},
   "source": [
    "Opertor precedence (paranthesis/exponents/division/multiplicion/addition/subtraction)"
   ]
  },
  {
   "cell_type": "code",
   "execution_count": 2,
   "id": "cf5d223a-2dc3-4f48-a2dc-732c14e96d17",
   "metadata": {},
   "outputs": [
    {
     "name": "stdout",
     "output_type": "stream",
     "text": [
      "16\n"
     ]
    }
   ],
   "source": [
    "result = 10+2*3 #multiplication first then addition result = 16\n",
    "print(result)"
   ]
  },
  {
   "cell_type": "code",
   "execution_count": 4,
   "id": "30027e7b-390b-450d-8e46-f3b1edc65893",
   "metadata": {},
   "outputs": [
    {
     "name": "stdout",
     "output_type": "stream",
     "text": [
      "36\n"
     ]
    }
   ],
   "source": [
    "result = (10+2)*3 #paranthesis first then multiplication result = 36\n",
    "print(result)"
   ]
  },
  {
   "cell_type": "code",
   "execution_count": 8,
   "id": "4a27ec49-5334-4857-b982-b4e99b7c8d7e",
   "metadata": {},
   "outputs": [
    {
     "name": "stdout",
     "output_type": "stream",
     "text": [
      "44\n"
     ]
    }
   ],
   "source": [
    "result = 2**3 + 6**2 #exponent first then addition result = 44\n",
    "print(result)"
   ]
  },
  {
   "cell_type": "markdown",
   "id": "618f1e5e-33cb-441a-b357-8a6651762f19",
   "metadata": {},
   "source": [
    "Note - The Exponetial(**) is evaluated right to left."
   ]
  },
  {
   "cell_type": "code",
   "execution_count": 11,
   "id": "4fdd4eed-ac72-40a5-b273-8044e13b92a5",
   "metadata": {},
   "outputs": [
    {
     "name": "stdout",
     "output_type": "stream",
     "text": [
      "512\n"
     ]
    }
   ],
   "source": [
    "result = 2**3**2 #executation = 2 ** (3**2) -> 2** 9 final result -> 512\n",
    "print(result)"
   ]
  }
 ],
 "metadata": {
  "kernelspec": {
   "display_name": "Python 3 (ipykernel)",
   "language": "python",
   "name": "python3"
  },
  "language_info": {
   "codemirror_mode": {
    "name": "ipython",
    "version": 3
   },
   "file_extension": ".py",
   "mimetype": "text/x-python",
   "name": "python",
   "nbconvert_exporter": "python",
   "pygments_lexer": "ipython3",
   "version": "3.13.5"
  }
 },
 "nbformat": 4,
 "nbformat_minor": 5
}
